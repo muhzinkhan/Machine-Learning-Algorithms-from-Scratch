{
 "cells": [
  {
   "cell_type": "code",
   "execution_count": 1,
   "metadata": {},
   "outputs": [],
   "source": [
    "import numpy as np\n",
    "import matplotlib.pyplot as plt"
   ]
  },
  {
   "cell_type": "code",
   "execution_count": 2,
   "metadata": {},
   "outputs": [],
   "source": [
    "class SVM:\n",
    "    def __init__(self, learning_rate=0.001, lambda_param=0.01, n_iters=1000):\n",
    "        self.lr = learning_rate\n",
    "        self.lambda_param = lambda_param\n",
    "        self.n_iters = n_iters\n",
    "        self.w = None\n",
    "        self.b = None\n",
    "\n",
    "    def fit(self, X, y):\n",
    "        n_samples, n_features = X.shape\n",
    "\n",
    "        y_ = np.where(y <= 0, -1, 1)\n",
    "\n",
    "        self.w = np.zeros(n_features)\n",
    "        self.b = 0\n",
    "\n",
    "        for _ in range(self.n_iters):\n",
    "            for idx, x_i in enumerate(X):\n",
    "                condition = y_[idx] * (np.dot(x_i, self.w) - self.b) >= 1\n",
    "                if condition:\n",
    "                    self.w -= self.lr * (2 * self.lambda_param * self.w)\n",
    "                else:\n",
    "                    self.w -= self.lr * (\n",
    "                        2 * self.lambda_param * self.w - np.dot(x_i, y_[idx])\n",
    "                    )\n",
    "                    self.b -= self.lr * y_[idx]\n",
    "\n",
    "    def predict(self, X):\n",
    "        approx = np.dot(X, self.w) - self.b\n",
    "        return np.sign(approx)"
   ]
  },
  {
   "cell_type": "code",
   "execution_count": 3,
   "metadata": {},
   "outputs": [],
   "source": [
    "def visualize_svm(clf: SVM, X, y):\n",
    "    clf = SVM()\n",
    "    clf.fit(X, y)\n",
    "    def get_hyperplane_value(x, w, b, offset):\n",
    "        return (-w[0] * x + b + offset) / w[1]\n",
    "\n",
    "    fig = plt.figure()\n",
    "    ax = fig.add_subplot(1, 1, 1)\n",
    "    plt.scatter(X[:, 0], X[:, 1], marker=\"o\", c=y)\n",
    "\n",
    "    x0_1 = np.amin(X[:, 0])\n",
    "    x0_2 = np.amax(X[:, 0])\n",
    "\n",
    "    x1_1 = get_hyperplane_value(x0_1, clf.w, clf.b, 0)\n",
    "    x1_2 = get_hyperplane_value(x0_2, clf.w, clf.b, 0)\n",
    "\n",
    "    x1_1_m = get_hyperplane_value(x0_1, clf.w, clf.b, -1)\n",
    "    x1_2_m = get_hyperplane_value(x0_2, clf.w, clf.b, -1)\n",
    "\n",
    "    x1_1_p = get_hyperplane_value(x0_1, clf.w, clf.b, 1)\n",
    "    x1_2_p = get_hyperplane_value(x0_2, clf.w, clf.b, 1)\n",
    "\n",
    "    ax.plot([x0_1, x0_2], [x1_1, x1_2], \"y--\")\n",
    "    ax.plot([x0_1, x0_2], [x1_1_m, x1_2_m], \"k\")\n",
    "    ax.plot([x0_1, x0_2], [x1_1_p, x1_2_p], \"k\")\n",
    "\n",
    "    x1_min = np.amin(X[:, 1])\n",
    "    x1_max = np.amax(X[:, 1])\n",
    "    ax.set_ylim([x1_min - 3, x1_max + 3])\n",
    "\n",
    "    plt.show()"
   ]
  }
 ],
 "metadata": {
  "kernelspec": {
   "display_name": ".venv",
   "language": "python",
   "name": "python3"
  },
  "language_info": {
   "codemirror_mode": {
    "name": "ipython",
    "version": 3
   },
   "file_extension": ".py",
   "mimetype": "text/x-python",
   "name": "python",
   "nbconvert_exporter": "python",
   "pygments_lexer": "ipython3",
   "version": "3.11.7"
  }
 },
 "nbformat": 4,
 "nbformat_minor": 2
}
