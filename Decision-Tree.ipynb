{
 "cells": [
  {
   "cell_type": "markdown",
   "metadata": {},
   "source": [
    "# Decision Tree"
   ]
  },
  {
   "cell_type": "markdown",
   "metadata": {},
   "source": [
    "# Entropy"
   ]
  },
  {
   "cell_type": "markdown",
   "metadata": {},
   "source": [
    "Imagine we have a dataset S, of which each data point is labelled to be any of the classes among c1, c2............ cn. If all the data points belongs to one class say c1, the **uncertinity** in the data set is low and hence it has a low entropy. The same way if the data points are spread over different classes from c1 to cn - uncertinity associated with the dataset is high and hence **entropy** is also high.\n",
    "\n",
    "\n",
    "in mathamatical terms, if p1 is the propotion of data labelled as c1 and etc etc...\n",
    "\n",
    " P1,P2,P3,.........Pn are class probabilities\n",
    "\n",
    "We can compute the entropy associated with the dataset (*H(S)*) by:\n",
    "\n",
    "**H(S) = -P1 x LOG(P1) - P2 x LOG(P2) - P3 x LOG(P3) ........ Pn x LOG(Pn)**\n",
    "\n",
    "*with the standard convention of 0 x log(0) = 0*\n",
    "\n",
    "**Intution**: Validating our theorized entropy equation H(S)\n",
    "\n",
    "each term -Pnlog(Pn) is always positive, when Pn is either zero or close to 1, -Pnlog(Pn) is close to zero.this means that entropy will be small when every Pn is close to 1 or zero."
   ]
  },
  {
   "cell_type": "code",
   "execution_count": null,
   "metadata": {},
   "outputs": [],
   "source": [
    "import random\n",
    "import math\n",
    "import numpy as np\n",
    "import pandas as pd\n",
    "from collections import Counter, defaultdict\n",
    "from typing import List, Tuple, TypeVar, Dict, Any, NamedTuple, Optional, Union"
   ]
  },
  {
   "cell_type": "code",
   "execution_count": 3,
   "metadata": {},
   "outputs": [],
   "source": [
    "def entropy(class_probabilities: List[float]) -> float:\n",
    "    \"\"\"given a List of class proababilities,returns the calculated entropy\"\"\"\n",
    "    return sum(-p * math.log(p, 2) for p in class_probabilities if p > 0)"
   ]
  },
  {
   "cell_type": "code",
   "execution_count": 4,
   "metadata": {},
   "outputs": [
    {
     "name": "stdout",
     "output_type": "stream",
     "text": [
      "entropy =  1.0741209043760986\n"
     ]
    }
   ],
   "source": [
    "# Test\n",
    "q = entropy([0.8, 0.1, 0.04, 0.04, 0.02])\n",
    "print(\"entropy = \", q)"
   ]
  },
  {
   "cell_type": "code",
   "execution_count": 5,
   "metadata": {},
   "outputs": [],
   "source": [
    "def class_probabilities(labels: List[Any]) -> List[float]:\n",
    "    total_count = len(labels)\n",
    "    return [count / total_count for count in Counter(labels).values()]"
   ]
  },
  {
   "cell_type": "code",
   "execution_count": 6,
   "metadata": {},
   "outputs": [],
   "source": [
    "def data_entropy(labels: List[Any]) -> float:\n",
    "    return entropy(class_probabilities(labels))"
   ]
  },
  {
   "cell_type": "code",
   "execution_count": 7,
   "metadata": {},
   "outputs": [
    {
     "name": "stdout",
     "output_type": "stream",
     "text": [
      " entropy of a single labeled dataset is = 0.0\n",
      " entropy of 2 labeled dataset is = 1.0\n"
     ]
    }
   ],
   "source": [
    "# Test\n",
    "a = data_entropy([\"a\"])\n",
    "print(\" entropy of a single labeled dataset is =\", a)\n",
    "\n",
    "a = data_entropy([\"a\", \"b\"])\n",
    "print(\" entropy of 2 labeled dataset is =\", a)"
   ]
  },
  {
   "cell_type": "markdown",
   "metadata": {},
   "source": [
    "# The Entropy of a Partition"
   ]
  },
  {
   "cell_type": "markdown",
   "metadata": {},
   "source": [
    "Ideally we want a partition to have a low entropy if it splits or partitions the data into subsets that themselfs have low entropy.\n",
    "\n",
    "**Formulation**:\n",
    "\n",
    "Mathamatically,if we partiotion our data S in to subsets S1, S2, S3,.........Sn,with proportions Q1, Q2, Q3,....Qn. Now we can compute the entropy of partition as a weighted sum of individual entropies of the partitions\n",
    "\n",
    "H(S before partition) = 0\n",
    "\n",
    "H(S after partition) = Q1 * H(S1) + Q2 * H(S2) +.......+ Qn * H(Sn)"
   ]
  },
  {
   "cell_type": "code",
   "execution_count": 8,
   "metadata": {},
   "outputs": [],
   "source": [
    "def partition_entropy(subsets: List[List[Any]]) -> float:\n",
    "    \"\"\"returns the entropy from the partition of data into subsets\"\"\"\n",
    "    total_count = sum(len(subset) for subset in subsets)\n",
    "    return sum(data_entropy(subset) * len(subset) / total_count for subset in subsets)"
   ]
  },
  {
   "cell_type": "markdown",
   "metadata": {},
   "source": [
    "# Creating a Decision Tree"
   ]
  },
  {
   "cell_type": "code",
   "execution_count": 10,
   "metadata": {},
   "outputs": [],
   "source": [
    "class Candidate(NamedTuple):\n",
    "    level: str  # junior, senior, mid\n",
    "    lang: str  # python, R, java\n",
    "    tweets: bool\n",
    "    phd: bool\n",
    "    hired: Optional[bool] = None  # Did well on interview - Optional: for allowing unlabeled data in this attribute\n",
    "\n",
    "\n",
    "inputs=[     #level    #lang  #tweets #phd #did_well\n",
    "    Candidate('Senior', 'Java', True, False, True),\n",
    "    Candidate('Junior', 'Python', False, True, False),\n",
    "    Candidate('Mid', 'R', True, True, True),\n",
    "    Candidate('Senior', 'Java', False, False, True),\n",
    "    Candidate('Junior', 'Java', True, False, False),\n",
    "    Candidate('Mid', 'Python', False, True, True),\n",
    "    Candidate('Senior', 'R', True, True, False),\n",
    "    Candidate('Junior', 'Java', False, False, True),\n",
    "    Candidate('Mid', 'R', True, False, True),\n",
    "    Candidate('Senior', 'Python', False, True, False),\n",
    "]"
   ]
  },
  {
   "cell_type": "markdown",
   "metadata": {},
   "source": [
    "## ID3 Rules:"
   ]
  },
  {
   "cell_type": "markdown",
   "metadata": {},
   "source": [
    "1. If the data all have same label, create a leaf node that predicts that label and stop\n",
    "\n",
    "2. if list of attributes are empty(no questions to ask), create a leaf node that predicts the most common label and stop (Using Prob)\n",
    "\n",
    "3. else try partitioning the data based on each attribute\n",
    "\n",
    "4. choose a partition that has the minimum possible entropy\n",
    "\n",
    "5. add a decision node based on the choosen attribute\n",
    "\n",
    "6. recur this on each partitioned subset using remaining attributes"
   ]
  },
  {
   "cell_type": "code",
   "execution_count": 12,
   "metadata": {},
   "outputs": [],
   "source": [
    "# partition the data\n",
    "\n",
    "T = TypeVar(\"T\")  # generic data type for inputs\n",
    "\n",
    "\n",
    "def partition_by(inputs: List[T], attribute: str) -> Dict[Any, List[T]]:\n",
    "    \"\"\"partition the input data in to dictionay of lists based on the speacific attribute\"\"\"\n",
    "    partitions: Dict[Any, List[T]] = defaultdict(list)\n",
    "    for input in inputs:\n",
    "        key = getattr(input, attribute)  # value of the speacified attribute\n",
    "        partitions[key].append(input)\n",
    "    return partitions"
   ]
  },
  {
   "cell_type": "code",
   "execution_count": 13,
   "metadata": {},
   "outputs": [
    {
     "data": {
      "text/plain": [
       "defaultdict(list,\n",
       "            {'Senior': [Candidate(level='Senior', lang='Java', tweets=True, phd=False, hired=True),\n",
       "              Candidate(level='Senior', lang='Java', tweets=False, phd=False, hired=True),\n",
       "              Candidate(level='Senior', lang='R', tweets=True, phd=True, hired=False),\n",
       "              Candidate(level='Senior', lang='Python', tweets=False, phd=True, hired=False)],\n",
       "             'Junior': [Candidate(level='Junior', lang='Python', tweets=False, phd=True, hired=False),\n",
       "              Candidate(level='Junior', lang='Java', tweets=True, phd=False, hired=False),\n",
       "              Candidate(level='Junior', lang='Java', tweets=False, phd=False, hired=True)],\n",
       "             'Mid': [Candidate(level='Mid', lang='R', tweets=True, phd=True, hired=True),\n",
       "              Candidate(level='Mid', lang='Python', tweets=False, phd=True, hired=True),\n",
       "              Candidate(level='Mid', lang='R', tweets=True, phd=False, hired=True)]})"
      ]
     },
     "execution_count": 13,
     "metadata": {},
     "output_type": "execute_result"
    }
   ],
   "source": [
    "partition_by(inputs,'level')"
   ]
  },
  {
   "cell_type": "code",
   "execution_count": 14,
   "metadata": {},
   "outputs": [],
   "source": [
    "# calculate entropy of partitions\n",
    "\n",
    "\n",
    "def partition_entropy_by(\n",
    "    inputs: List[T], attribute: str, label_attribute: str\n",
    ") -> float:\n",
    "    \"\"\"compute the entropy corresponding to the given partition\"\"\"\n",
    "    partitions = partition_by(inputs, attribute)\n",
    "    # print(partitions)\n",
    "    # but partition_entropy requires just the class labels!!\n",
    "    labels = [\n",
    "        [getattr(input, label_attribute) for input in partition]\n",
    "        for partition in partitions.values()\n",
    "    ]\n",
    "    print(labels)\n",
    "    return partition_entropy(labels)"
   ]
  },
  {
   "cell_type": "code",
   "execution_count": 15,
   "metadata": {},
   "outputs": [
    {
     "name": "stdout",
     "output_type": "stream",
     "text": [
      "[[True, True, False, False], [False, False, True], [True, True, True]]\n"
     ]
    },
    {
     "data": {
      "text/plain": [
       "0.6754887502163469"
      ]
     },
     "execution_count": 15,
     "metadata": {},
     "output_type": "execute_result"
    }
   ],
   "source": [
    "partition_entropy_by(inputs, \"level\", \"hired\")"
   ]
  },
  {
   "cell_type": "code",
   "execution_count": 16,
   "metadata": {},
   "outputs": [
    {
     "name": "stdout",
     "output_type": "stream",
     "text": [
      "[[True, True, True, True, True, True], [False, False, False, False]]\n"
     ]
    },
    {
     "data": {
      "text/plain": [
       "0.0"
      ]
     },
     "execution_count": 16,
     "metadata": {},
     "output_type": "execute_result"
    }
   ],
   "source": [
    "partition_entropy_by(inputs, \"hired\", \"hired\")"
   ]
  },
  {
   "cell_type": "code",
   "execution_count": 17,
   "metadata": {},
   "outputs": [
    {
     "name": "stdout",
     "output_type": "stream",
     "text": [
      "[[True, True, False, True], [False, True, False], [True, False, True]]\n"
     ]
    },
    {
     "data": {
      "text/plain": [
       "0.875488750216347"
      ]
     },
     "execution_count": 17,
     "metadata": {},
     "output_type": "execute_result"
    }
   ],
   "source": [
    "partition_entropy_by(inputs, \"lang\", \"hired\")"
   ]
  },
  {
   "cell_type": "code",
   "execution_count": 18,
   "metadata": {},
   "outputs": [
    {
     "name": "stdout",
     "output_type": "stream",
     "text": [
      "[[True, True, False, False], [False, False, True], [True, True, True]]\n",
      "level 0.6754887502163469\n",
      "[[True, True, False, True], [False, True, False], [True, False, True]]\n",
      "lang 0.875488750216347\n",
      "[[True, True, False, False, True], [False, True, True, True, False]]\n",
      "tweets 0.9709505944546686\n",
      "[[True, True, False, True, True], [False, True, True, False, False]]\n",
      "phd 0.8464393446710154\n",
      "[[True, True, True, True, True, True], [False, False, False, False]]\n",
      "hired 0.0\n"
     ]
    }
   ],
   "source": [
    "for key in [\"level\", \"lang\", \"tweets\", \"phd\", \"hired\"]:\n",
    "    print(key, partition_entropy_by(inputs, key, \"hired\"))"
   ]
  },
  {
   "cell_type": "code",
   "execution_count": 19,
   "metadata": {},
   "outputs": [
    {
     "data": {
      "text/plain": [
       "[Candidate(level='Senior', lang='Java', tweets=True, phd=False, hired=True),\n",
       " Candidate(level='Senior', lang='Java', tweets=False, phd=False, hired=True),\n",
       " Candidate(level='Senior', lang='R', tweets=True, phd=True, hired=False),\n",
       " Candidate(level='Senior', lang='Python', tweets=False, phd=True, hired=False)]"
      ]
     },
     "execution_count": 19,
     "metadata": {},
     "output_type": "execute_result"
    }
   ],
   "source": [
    "senior_inputs = [input for input in inputs if input.level == \"Senior\"]\n",
    "senior_inputs"
   ]
  },
  {
   "cell_type": "code",
   "execution_count": 20,
   "metadata": {},
   "outputs": [
    {
     "name": "stdout",
     "output_type": "stream",
     "text": [
      "[[True, True], [False], [False]]\n",
      "lang 0.0\n",
      "[[True, False], [True, False]]\n",
      "tweets 1.0\n",
      "[[True, True], [False, False]]\n",
      "phd 0.0\n"
     ]
    }
   ],
   "source": [
    "for key in [\"lang\", \"tweets\", \"phd\"]:\n",
    "    print(key, partition_entropy_by(senior_inputs, key, \"hired\"))"
   ]
  },
  {
   "cell_type": "code",
   "execution_count": 21,
   "metadata": {},
   "outputs": [
    {
     "data": {
      "text/plain": [
       "[Candidate(level='Junior', lang='Python', tweets=False, phd=True, hired=False),\n",
       " Candidate(level='Junior', lang='Java', tweets=True, phd=False, hired=False),\n",
       " Candidate(level='Junior', lang='Java', tweets=False, phd=False, hired=True)]"
      ]
     },
     "execution_count": 21,
     "metadata": {},
     "output_type": "execute_result"
    }
   ],
   "source": [
    "junior_inputs = [input for input in inputs if input.level == \"Junior\"]\n",
    "junior_inputs"
   ]
  },
  {
   "cell_type": "code",
   "execution_count": 22,
   "metadata": {},
   "outputs": [
    {
     "name": "stdout",
     "output_type": "stream",
     "text": [
      "[[False], [False, True]]\n",
      "lang 0.6666666666666666\n",
      "[[False, True], [False]]\n",
      "tweets 0.6666666666666666\n",
      "[[False], [False, True]]\n",
      "phd 0.6666666666666666\n"
     ]
    }
   ],
   "source": [
    "for key in [\"lang\", \"tweets\", \"phd\"]:\n",
    "    print(key, partition_entropy_by(junior_inputs, key, \"hired\"))"
   ]
  },
  {
   "cell_type": "code",
   "execution_count": 23,
   "metadata": {},
   "outputs": [
    {
     "data": {
      "text/plain": [
       "[Candidate(level='Junior', lang='Java', tweets=True, phd=False, hired=False),\n",
       " Candidate(level='Junior', lang='Java', tweets=False, phd=False, hired=True)]"
      ]
     },
     "execution_count": 23,
     "metadata": {},
     "output_type": "execute_result"
    }
   ],
   "source": [
    "lang_is_java = [input for input in junior_inputs if input.lang == 'Java']\n",
    "lang_is_java"
   ]
  },
  {
   "cell_type": "markdown",
   "metadata": {},
   "source": [
    "![Decision Tree.png](data:image/png;base64,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)"
   ]
  },
  {
   "cell_type": "markdown",
   "metadata": {},
   "source": [
    "# Putting it all together"
   ]
  },
  {
   "cell_type": "markdown",
   "metadata": {},
   "source": [
    "WE define our tree to be either a Leaf or a Split.\n",
    "\n",
    "Leaf: an element of tree that predicts a single value.\n",
    "\n",
    "Split: containing an attribute to split on to subtrees for speacific values of that attribute,and possible a default value to use when we have an unknown value"
   ]
  },
  {
   "cell_type": "code",
   "execution_count": null,
   "metadata": {},
   "outputs": [],
   "source": [
    "class Leaf(NamedTuple):\n",
    "    value: Any\n",
    "\n",
    "\n",
    "class Split(NamedTuple):\n",
    "    attribute: str\n",
    "    subtrees: dict\n",
    "    default_value: Any = None\n",
    "\n",
    "\n",
    "DecisionTree = Union[Leaf, Split]"
   ]
  },
  {
   "cell_type": "markdown",
   "metadata": {},
   "source": [
    "Testing on other larger dataset"
   ]
  },
  {
   "cell_type": "code",
   "execution_count": 25,
   "metadata": {},
   "outputs": [
    {
     "data": {
      "text/plain": [
       "42"
      ]
     },
     "execution_count": 25,
     "metadata": {},
     "output_type": "execute_result"
    }
   ],
   "source": [
    "class Candidate(NamedTuple):\n",
    "    level: str  # junior, senior, mid\n",
    "    lang: str  # python, R, java\n",
    "    tweets: bool\n",
    "    phd: bool\n",
    "    hired: Optional[bool] = None  # Did well on interview - Optional: for allowing unlabeled data in this attribute\n",
    "\n",
    "\n",
    "inputs=[     #level    #lang  #tweets #phd   #Hired\n",
    "    Candidate('Senior', 'Java', True, False, True),\n",
    "    Candidate('Junior', 'Python', False, True, False),\n",
    "    Candidate('Mid', 'R', True, True, True),\n",
    "    Candidate('Senior', 'Java', False, False, True),\n",
    "    Candidate('Junior', 'Java', True, False, False),\n",
    "    Candidate('Mid', 'Python', False, True, True),\n",
    "    Candidate('Senior', 'R', True, True, False),\n",
    "    Candidate('Junior', 'Java', False, False, True),\n",
    "    Candidate('Mid', 'R', True, False, True),\n",
    "    Candidate('Senior', 'R', True, False, True),\n",
    "    Candidate('Senior', 'Rust', False, False, True),\n",
    "    Candidate('Senior', 'Python', False, True, False),\n",
    "    Candidate('Intern', 'Python', False, False, False),\n",
    "    Candidate('Intern', 'Python', True, False, True),\n",
    "    Candidate('Fresher', 'Python', False, False, False),\n",
    "    Candidate('Fresher', 'Python', False, False, False),\n",
    "    Candidate('Fresher', 'Java', False, False, False),\n",
    "    Candidate('Fresher', 'Python', False, False, False),\n",
    "    Candidate('Fresher', 'Python', True, False, False),\n",
    "    Candidate('Fresher', 'Python', True, True, False),\n",
    "    Candidate('Fresher', 'Python', True, False, False),\n",
    "    Candidate('Fresher', 'Python', True, False, False),\n",
    "    Candidate('Fresher', 'Python', False, True, False),\n",
    "    Candidate('Fresher', 'Python', False, False, False),\n",
    "    Candidate('Fresher', None, False, False, False),\n",
    "    Candidate('Junior', 'Rust', False, True, False),\n",
    "    Candidate('Junior', 'C', False, True, False),\n",
    "    Candidate('Mid', 'Rust', False, True, False),\n",
    "    Candidate('Mid', 'Rust', True, False, True),\n",
    "    Candidate('Mid', 'C', False, False, False),\n",
    "    Candidate('Mid', 'C', False, False, True),\n",
    "    Candidate('Mid', 'C', False, False, None),\n",
    "    Candidate('Senior', 'C', False, False, False),\n",
    "    Candidate('Mid', 'C#', False, False, False),\n",
    "    Candidate('Mid', 'C#', False, False, False),\n",
    "    Candidate('Junior', 'C#', False, True, False),\n",
    "    Candidate('Junior', 'C#', False, True, False),\n",
    "    Candidate('Junior', 'C#', True, True, False),\n",
    "    Candidate('Junior', 'C++', True, False, True),\n",
    "    Candidate('Senior', 'C++', True, False, True),\n",
    "    Candidate('Senior', 'C++', False, True, True),\n",
    "    Candidate('Senior', 'C++', False, False, True),\n",
    "]\n",
    "len(inputs)"
   ]
  },
  {
   "cell_type": "code",
   "execution_count": null,
   "metadata": {},
   "outputs": [],
   "source": [
    "# hiring tree would look like\n",
    "hiring_tree = Split(\n",
    "    \"level\",\n",
    "    {\n",
    "        \"Senior\": Split(\"PHD\", {False: Leaf(False), True: Leaf(True)}),\n",
    "        \"Mid\": Leaf(True),\n",
    "        \"junior\": Split(\n",
    "            \"Language\",\n",
    "            {\n",
    "                \"python\": Leaf(True),\n",
    "                \"java\": Split(\"Tweets\", {True: Leaf(True), False: Leaf(False)}),\n",
    "            },\n",
    "        ),\n",
    "    },\n",
    ")"
   ]
  },
  {
   "cell_type": "code",
   "execution_count": 27,
   "metadata": {},
   "outputs": [],
   "source": [
    "# handling defaulted values\n",
    "def classify(tree: DecisionTree, input: Any) -> Any:\n",
    "    \"\"\"classify the inputs using given decision tree\"\"\"\n",
    "    \n",
    "    # if ths is a leaf node,return its value\n",
    "    if isinstance(tree, Leaf):\n",
    "        return tree.value\n",
    "    # otherwise,the tree consists of atrributes to split on and a dictinary\n",
    "    # whose keys are values of that attribute\n",
    "    # and those values are subtrees for next level\n",
    "    subtree_key = getattr(input, tree.attribute)\n",
    "    if subtree_key not in tree.subtrees:\n",
    "        return (\n",
    "            tree.default_value\n",
    "        )  # assigning default value if the key isnt present in subtree keys\n",
    "\n",
    "    subtree = tree.subtrees[subtree_key]\n",
    "    return classify(\n",
    "        subtree, input\n",
    "    )  # choosing an appropriate subtree and use it to classify"
   ]
  },
  {
   "cell_type": "code",
   "execution_count": 28,
   "metadata": {},
   "outputs": [],
   "source": [
    "# BUILD THE DECISION TREE REPRESENTATION FROM OUR TRAINING DATA\n",
    "\n",
    "\n",
    "def build_tree(\n",
    "    inputs: List[Any], split_attributes: List[Any], target_attribute: str\n",
    ") -> DecisionTree:\n",
    "    # count target labels\n",
    "    label_counts = Counter(getattr(input, target_attribute) for input in inputs)\n",
    "    most_common_label = label_counts.most_common(1)[0][0]\n",
    "\n",
    "    # if there is a unique label,predict\n",
    "    if len(label_counts) == 1:\n",
    "        return Leaf(most_common_label)\n",
    "\n",
    "    # if there is no single label and no questions to ask,return most commom label\n",
    "    if not split_attributes:\n",
    "        return Leaf(most_common_label)\n",
    "    # Other wise split by the best attribute or minimum partition entropy\n",
    "\n",
    "    def split_entropy(attribute: str) -> float:\n",
    "        \"\"\"helper function for finding the best attribute\"\"\"\n",
    "        return partition_entropy_by(inputs, attribute, target_attribute)\n",
    "\n",
    "    best_attribute = min(split_attributes, key=split_entropy)\n",
    "    partitions = partition_by(inputs, best_attribute)\n",
    "    new_attributes = [a for a in split_attributes if a != best_attribute]\n",
    "\n",
    "    # recursively build the subtree\n",
    "    subtrees = {\n",
    "        attribute_value: build_tree(subset, new_attributes, target_attribute)\n",
    "        for attribute_value, subset in partitions.items()\n",
    "    }\n",
    "\n",
    "    return Split(best_attribute, subtrees, default_value=most_common_label)"
   ]
  }
 ],
 "metadata": {
  "kernelspec": {
   "display_name": ".venv",
   "language": "python",
   "name": "python3"
  },
  "language_info": {
   "codemirror_mode": {
    "name": "ipython",
    "version": 3
   },
   "file_extension": ".py",
   "mimetype": "text/x-python",
   "name": "python",
   "nbconvert_exporter": "python",
   "pygments_lexer": "ipython3",
   "version": "3.11.7"
  }
 },
 "nbformat": 4,
 "nbformat_minor": 2
}
