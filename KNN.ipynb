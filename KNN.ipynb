{
 "cells": [
  {
   "cell_type": "markdown",
   "metadata": {},
   "source": [
    "# K - Nearest Neigbours"
   ]
  },
  {
   "cell_type": "code",
   "execution_count": 1,
   "metadata": {},
   "outputs": [],
   "source": [
    "import random\n",
    "import math\n",
    "import numpy as np\n",
    "import pandas as pd\n",
    "from collections import Counter\n",
    "from typing import List, Tuple, TypeVar"
   ]
  },
  {
   "cell_type": "code",
   "execution_count": 2,
   "metadata": {},
   "outputs": [],
   "source": [
    "X = TypeVar(\"X\") \n",
    "Y = TypeVar(\"Y\")"
   ]
  },
  {
   "cell_type": "code",
   "execution_count": 3,
   "metadata": {},
   "outputs": [],
   "source": [
    "def raw_majority_vote(labels:List[str]) -> str:\n",
    "    votes = Counter(labels)\n",
    "    print(votes)\n",
    "    winner, _ = votes.most_common(1)[0]\n",
    "    return winner"
   ]
  },
  {
   "cell_type": "code",
   "execution_count": 4,
   "metadata": {},
   "outputs": [
    {
     "name": "stdout",
     "output_type": "stream",
     "text": [
      "Counter({'a': 2, 'b': 2, 'c': 1})\n",
      "Winner = a\n"
     ]
    }
   ],
   "source": [
    "winner = raw_majority_vote([\"a\", \"b\", \"a\", \"b\", \"c\"])\n",
    "print(f\"Winner = {winner}\")"
   ]
  },
  {
   "cell_type": "markdown",
   "metadata": {},
   "source": [
    "In case of **ties** in majority votes, we have 3 options:\n",
    "\n",
    "1. Pick one winner at random\n",
    "2. Weight the votes by distance and pick the weighted winner        (Outlier could be a possible near neighbour)\n",
    "3. reduce the k until we find a winner\n",
    "\n",
    "we wiil implement the third, considering the wights asigned in 2nd"
   ]
  },
  {
   "cell_type": "code",
   "execution_count": 5,
   "metadata": {},
   "outputs": [],
   "source": [
    "def majority_vote(labels: List[str]) -> str:\n",
    "    \"\"\"assume that labels are ordered from nearest to furthest\"\"\"\n",
    "    vote_counts = Counter(labels)\n",
    "    winner, winner_count = vote_counts.most_common(1)[0]\n",
    "    num_winner = len([count for count in vote_counts.values() if count == winner_count])\n",
    "    if num_winner == 1:\n",
    "        return winner                        # Only one winner\n",
    "    else:\n",
    "        return majority_vote(labels[:-1])   # call again without the farthest"
   ]
  },
  {
   "cell_type": "code",
   "execution_count": 6,
   "metadata": {},
   "outputs": [
    {
     "name": "stdout",
     "output_type": "stream",
     "text": [
      "Winner = a\n"
     ]
    }
   ],
   "source": [
    "winner = majority_vote([\"a\", \"b\", \"c\", \"a\", \"b\"])\n",
    "print(f\"Winner = {winner}\")"
   ]
  },
  {
   "cell_type": "markdown",
   "metadata": {},
   "source": [
    "### Pre-reqs"
   ]
  },
  {
   "cell_type": "code",
   "execution_count": 7,
   "metadata": {},
   "outputs": [],
   "source": [
    "Vector = List[float]"
   ]
  },
  {
   "cell_type": "code",
   "execution_count": 8,
   "metadata": {},
   "outputs": [],
   "source": [
    "def subtract(v: Vector, w: Vector) -> Vector:\n",
    "    assert len(v) == len(w)\n",
    "    diff = [v_i - w_i for v_i, w_i in zip(v, w)]\n",
    "    return diff"
   ]
  },
  {
   "cell_type": "code",
   "execution_count": 9,
   "metadata": {},
   "outputs": [],
   "source": [
    "def dot_product(v: Vector, w: Vector) -> float:\n",
    "    # asser lenth of V and W are equal\n",
    "    assert len(v) == len(w), \"length of vectors are not equal\"\n",
    "    # compute vector product\n",
    "    return sum(v_i * w_i for v_i, w_i in zip(v, w))"
   ]
  },
  {
   "cell_type": "code",
   "execution_count": 10,
   "metadata": {},
   "outputs": [],
   "source": [
    "# squared sum of vectors\n",
    "def sum_of_squares(v: Vector) -> float:\n",
    "    # compute squared sum finding dot product of V aginst V itself\n",
    "    return dot_product(v, v)"
   ]
  },
  {
   "cell_type": "code",
   "execution_count": 11,
   "metadata": {},
   "outputs": [],
   "source": [
    "# compute magnitude of a vector\n",
    "def magnitude(v: Vector) -> float:\n",
    "    # compute magnitude which is the square root of sum of squares of elemnts in given vector\n",
    "    return math.sqrt(sum_of_squares(v))"
   ]
  },
  {
   "cell_type": "code",
   "execution_count": 12,
   "metadata": {},
   "outputs": [],
   "source": [
    "# distance between 2 vectors\n",
    "def distance(v: Vector, w: Vector) -> float:\n",
    "    # compute distance by using subtract vector function and magnitude function\n",
    "    return magnitude(subtract(v, w))"
   ]
  },
  {
   "cell_type": "markdown",
   "metadata": {},
   "source": [
    "### Function def"
   ]
  },
  {
   "cell_type": "code",
   "execution_count": 13,
   "metadata": {},
   "outputs": [],
   "source": [
    "from typing import NamedTuple"
   ]
  },
  {
   "cell_type": "code",
   "execution_count": 14,
   "metadata": {},
   "outputs": [],
   "source": [
    "class LabeledPoint(NamedTuple):\n",
    "    point: Vector\n",
    "    label: str\n",
    "\n",
    "\n",
    "def knn_classify(k: int, labeled_points: List[LabeledPoint], new_point: Vector) -> str:\n",
    "    \"\"\"Classify the new_point based on k nearest neighbours of labeled_points\"\"\"\n",
    "\n",
    "    # Order the labeled points from nearest to furthest\n",
    "    by_distance = sorted(labeled_points, key=lambda lp: distance(lp.point, new_point))\n",
    "\n",
    "    # Find the labels for the K closest\n",
    "    k_nearest_labels = [lp.label for lp in by_distance[:k]]\n",
    "\n",
    "    # Let them vote!\n",
    "    return majority_vote(k_nearest_labels)"
   ]
  },
  {
   "cell_type": "markdown",
   "metadata": {},
   "source": [
    "## Iris Classification Model using KNN with UCI dataset"
   ]
  },
  {
   "cell_type": "markdown",
   "metadata": {},
   "source": [
    "Dataset: https://archive.ics.uci.edu/dataset/53/iris"
   ]
  },
  {
   "cell_type": "markdown",
   "metadata": {},
   "source": [
    "sepal_length, sepal_width, petal_length, petal_width, class\n",
    "\n",
    "Eg:- 5.1, 3.5, 1.4, 0.2, iris-setos\n",
    "\n",
    "We're going to build a model to predict a flowers class based on its sepal and petal dimensions"
   ]
  },
  {
   "cell_type": "code",
   "execution_count": 15,
   "metadata": {},
   "outputs": [],
   "source": [
    "from typing import Dict\n",
    "# import csv\n",
    "from collections import defaultdict"
   ]
  },
  {
   "cell_type": "code",
   "execution_count": 16,
   "metadata": {},
   "outputs": [],
   "source": [
    "def parse_iris_row(row: list[str]) -> LabeledPoint:\n",
    "    \"\"\"sepal_length, sepal_width, petal_length, petal_width, class\"\"\"\n",
    "    measurements = [float(value) for value in row[:-1]]\n",
    "    label = row[-1]\n",
    "    return LabeledPoint(measurements, label)"
   ]
  },
  {
   "cell_type": "markdown",
   "metadata": {},
   "source": [
    "Testing with a small example"
   ]
  },
  {
   "cell_type": "code",
   "execution_count": 17,
   "metadata": {},
   "outputs": [
    {
     "name": "stdout",
     "output_type": "stream",
     "text": [
      "out_put: LabeledPoint(point=[5.1, 3.5, 1.4, 0.2], label='iris-setos')\n"
     ]
    }
   ],
   "source": [
    "labeled_point = parse_iris_row([\"5.1\", \"3.5\", \"1.4\", \"0.2\", \"iris-setos\"])\n",
    "print(f\"out_put: {labeled_point}\")"
   ]
  },
  {
   "cell_type": "markdown",
   "metadata": {},
   "source": [
    "Testing with original data using our KNN classifier\n",
    "\n",
    "Load Data:"
   ]
  },
  {
   "cell_type": "code",
   "execution_count": 18,
   "metadata": {},
   "outputs": [],
   "source": [
    "# Reading with pandas\n",
    "import pandas as pd"
   ]
  },
  {
   "cell_type": "code",
   "execution_count": 19,
   "metadata": {},
   "outputs": [
    {
     "name": "stdout",
     "output_type": "stream",
     "text": [
      "(150, 5)\n"
     ]
    },
    {
     "data": {
      "text/html": [
       "<div>\n",
       "<style scoped>\n",
       "    .dataframe tbody tr th:only-of-type {\n",
       "        vertical-align: middle;\n",
       "    }\n",
       "\n",
       "    .dataframe tbody tr th {\n",
       "        vertical-align: top;\n",
       "    }\n",
       "\n",
       "    .dataframe thead th {\n",
       "        text-align: right;\n",
       "    }\n",
       "</style>\n",
       "<table border=\"1\" class=\"dataframe\">\n",
       "  <thead>\n",
       "    <tr style=\"text-align: right;\">\n",
       "      <th></th>\n",
       "      <th>sepal_length</th>\n",
       "      <th>sepal_width</th>\n",
       "      <th>petal_length</th>\n",
       "      <th>petal_width</th>\n",
       "      <th>class</th>\n",
       "    </tr>\n",
       "  </thead>\n",
       "  <tbody>\n",
       "    <tr>\n",
       "      <th>0</th>\n",
       "      <td>5.1</td>\n",
       "      <td>3.5</td>\n",
       "      <td>1.4</td>\n",
       "      <td>0.2</td>\n",
       "      <td>Iris-setosa</td>\n",
       "    </tr>\n",
       "    <tr>\n",
       "      <th>1</th>\n",
       "      <td>4.9</td>\n",
       "      <td>3.0</td>\n",
       "      <td>1.4</td>\n",
       "      <td>0.2</td>\n",
       "      <td>Iris-setosa</td>\n",
       "    </tr>\n",
       "    <tr>\n",
       "      <th>2</th>\n",
       "      <td>4.7</td>\n",
       "      <td>3.2</td>\n",
       "      <td>1.3</td>\n",
       "      <td>0.2</td>\n",
       "      <td>Iris-setosa</td>\n",
       "    </tr>\n",
       "    <tr>\n",
       "      <th>3</th>\n",
       "      <td>4.6</td>\n",
       "      <td>3.1</td>\n",
       "      <td>1.5</td>\n",
       "      <td>0.2</td>\n",
       "      <td>Iris-setosa</td>\n",
       "    </tr>\n",
       "    <tr>\n",
       "      <th>4</th>\n",
       "      <td>5.0</td>\n",
       "      <td>3.6</td>\n",
       "      <td>1.4</td>\n",
       "      <td>0.2</td>\n",
       "      <td>Iris-setosa</td>\n",
       "    </tr>\n",
       "  </tbody>\n",
       "</table>\n",
       "</div>"
      ],
      "text/plain": [
       "   sepal_length  sepal_width  petal_length  petal_width        class\n",
       "0           5.1          3.5           1.4          0.2  Iris-setosa\n",
       "1           4.9          3.0           1.4          0.2  Iris-setosa\n",
       "2           4.7          3.2           1.3          0.2  Iris-setosa\n",
       "3           4.6          3.1           1.5          0.2  Iris-setosa\n",
       "4           5.0          3.6           1.4          0.2  Iris-setosa"
      ]
     },
     "execution_count": 19,
     "metadata": {},
     "output_type": "execute_result"
    }
   ],
   "source": [
    "df = pd.read_csv(\"data\\iris.data\", names=['sepal_length', 'sepal_width', 'petal_length', 'petal_width', 'class'])\n",
    "print(df.shape)\n",
    "df.head()"
   ]
  },
  {
   "cell_type": "code",
   "execution_count": 20,
   "metadata": {},
   "outputs": [
    {
     "name": "stdout",
     "output_type": "stream",
     "text": [
      "<class 'pandas.core.frame.DataFrame'>\n",
      "RangeIndex: 150 entries, 0 to 149\n",
      "Data columns (total 5 columns):\n",
      " #   Column        Non-Null Count  Dtype  \n",
      "---  ------        --------------  -----  \n",
      " 0   sepal_length  150 non-null    float64\n",
      " 1   sepal_width   150 non-null    float64\n",
      " 2   petal_length  150 non-null    float64\n",
      " 3   petal_width   150 non-null    float64\n",
      " 4   class         150 non-null    object \n",
      "dtypes: float64(4), object(1)\n",
      "memory usage: 6.0+ KB\n"
     ]
    }
   ],
   "source": [
    "df.info()"
   ]
  },
  {
   "cell_type": "code",
   "execution_count": 21,
   "metadata": {},
   "outputs": [
    {
     "name": "stdout",
     "output_type": "stream",
     "text": [
      "<class 'pandas.core.frame.DataFrame'>\n",
      "RangeIndex: 150 entries, 0 to 149\n",
      "Data columns (total 5 columns):\n",
      " #   Column        Non-Null Count  Dtype \n",
      "---  ------        --------------  ----- \n",
      " 0   sepal_length  150 non-null    object\n",
      " 1   sepal_width   150 non-null    object\n",
      " 2   petal_length  150 non-null    object\n",
      " 3   petal_width   150 non-null    object\n",
      " 4   class         150 non-null    object\n",
      "dtypes: object(5)\n",
      "memory usage: 6.0+ KB\n"
     ]
    }
   ],
   "source": [
    "df1 = df.astype('str')\n",
    "df1.info()"
   ]
  },
  {
   "cell_type": "code",
   "execution_count": 22,
   "metadata": {},
   "outputs": [
    {
     "data": {
      "text/plain": [
       "[LabeledPoint(point=[5.1, 3.5, 1.4, 0.2], label='Iris-setosa'),\n",
       " LabeledPoint(point=[4.9, 3.0, 1.4, 0.2], label='Iris-setosa'),\n",
       " LabeledPoint(point=[4.7, 3.2, 1.3, 0.2], label='Iris-setosa'),\n",
       " LabeledPoint(point=[4.6, 3.1, 1.5, 0.2], label='Iris-setosa'),\n",
       " LabeledPoint(point=[5.0, 3.6, 1.4, 0.2], label='Iris-setosa'),\n",
       " LabeledPoint(point=[5.4, 3.9, 1.7, 0.4], label='Iris-setosa'),\n",
       " LabeledPoint(point=[4.6, 3.4, 1.4, 0.3], label='Iris-setosa'),\n",
       " LabeledPoint(point=[5.0, 3.4, 1.5, 0.2], label='Iris-setosa'),\n",
       " LabeledPoint(point=[4.4, 2.9, 1.4, 0.2], label='Iris-setosa'),\n",
       " LabeledPoint(point=[4.9, 3.1, 1.5, 0.1], label='Iris-setosa'),\n",
       " LabeledPoint(point=[5.4, 3.7, 1.5, 0.2], label='Iris-setosa'),\n",
       " LabeledPoint(point=[4.8, 3.4, 1.6, 0.2], label='Iris-setosa'),\n",
       " LabeledPoint(point=[4.8, 3.0, 1.4, 0.1], label='Iris-setosa'),\n",
       " LabeledPoint(point=[4.3, 3.0, 1.1, 0.1], label='Iris-setosa'),\n",
       " LabeledPoint(point=[5.8, 4.0, 1.2, 0.2], label='Iris-setosa'),\n",
       " LabeledPoint(point=[5.7, 4.4, 1.5, 0.4], label='Iris-setosa'),\n",
       " LabeledPoint(point=[5.4, 3.9, 1.3, 0.4], label='Iris-setosa'),\n",
       " LabeledPoint(point=[5.1, 3.5, 1.4, 0.3], label='Iris-setosa'),\n",
       " LabeledPoint(point=[5.7, 3.8, 1.7, 0.3], label='Iris-setosa'),\n",
       " LabeledPoint(point=[5.1, 3.8, 1.5, 0.3], label='Iris-setosa'),\n",
       " LabeledPoint(point=[5.4, 3.4, 1.7, 0.2], label='Iris-setosa'),\n",
       " LabeledPoint(point=[5.1, 3.7, 1.5, 0.4], label='Iris-setosa'),\n",
       " LabeledPoint(point=[4.6, 3.6, 1.0, 0.2], label='Iris-setosa'),\n",
       " LabeledPoint(point=[5.1, 3.3, 1.7, 0.5], label='Iris-setosa'),\n",
       " LabeledPoint(point=[4.8, 3.4, 1.9, 0.2], label='Iris-setosa'),\n",
       " LabeledPoint(point=[5.0, 3.0, 1.6, 0.2], label='Iris-setosa'),\n",
       " LabeledPoint(point=[5.0, 3.4, 1.6, 0.4], label='Iris-setosa'),\n",
       " LabeledPoint(point=[5.2, 3.5, 1.5, 0.2], label='Iris-setosa'),\n",
       " LabeledPoint(point=[5.2, 3.4, 1.4, 0.2], label='Iris-setosa'),\n",
       " LabeledPoint(point=[4.7, 3.2, 1.6, 0.2], label='Iris-setosa'),\n",
       " LabeledPoint(point=[4.8, 3.1, 1.6, 0.2], label='Iris-setosa'),\n",
       " LabeledPoint(point=[5.4, 3.4, 1.5, 0.4], label='Iris-setosa'),\n",
       " LabeledPoint(point=[5.2, 4.1, 1.5, 0.1], label='Iris-setosa'),\n",
       " LabeledPoint(point=[5.5, 4.2, 1.4, 0.2], label='Iris-setosa'),\n",
       " LabeledPoint(point=[4.9, 3.1, 1.5, 0.1], label='Iris-setosa'),\n",
       " LabeledPoint(point=[5.0, 3.2, 1.2, 0.2], label='Iris-setosa'),\n",
       " LabeledPoint(point=[5.5, 3.5, 1.3, 0.2], label='Iris-setosa'),\n",
       " LabeledPoint(point=[4.9, 3.1, 1.5, 0.1], label='Iris-setosa'),\n",
       " LabeledPoint(point=[4.4, 3.0, 1.3, 0.2], label='Iris-setosa'),\n",
       " LabeledPoint(point=[5.1, 3.4, 1.5, 0.2], label='Iris-setosa'),\n",
       " LabeledPoint(point=[5.0, 3.5, 1.3, 0.3], label='Iris-setosa'),\n",
       " LabeledPoint(point=[4.5, 2.3, 1.3, 0.3], label='Iris-setosa'),\n",
       " LabeledPoint(point=[4.4, 3.2, 1.3, 0.2], label='Iris-setosa'),\n",
       " LabeledPoint(point=[5.0, 3.5, 1.6, 0.6], label='Iris-setosa'),\n",
       " LabeledPoint(point=[5.1, 3.8, 1.9, 0.4], label='Iris-setosa'),\n",
       " LabeledPoint(point=[4.8, 3.0, 1.4, 0.3], label='Iris-setosa'),\n",
       " LabeledPoint(point=[5.1, 3.8, 1.6, 0.2], label='Iris-setosa'),\n",
       " LabeledPoint(point=[4.6, 3.2, 1.4, 0.2], label='Iris-setosa'),\n",
       " LabeledPoint(point=[5.3, 3.7, 1.5, 0.2], label='Iris-setosa'),\n",
       " LabeledPoint(point=[5.0, 3.3, 1.4, 0.2], label='Iris-setosa'),\n",
       " LabeledPoint(point=[7.0, 3.2, 4.7, 1.4], label='Iris-versicolor'),\n",
       " LabeledPoint(point=[6.4, 3.2, 4.5, 1.5], label='Iris-versicolor'),\n",
       " LabeledPoint(point=[6.9, 3.1, 4.9, 1.5], label='Iris-versicolor'),\n",
       " LabeledPoint(point=[5.5, 2.3, 4.0, 1.3], label='Iris-versicolor'),\n",
       " LabeledPoint(point=[6.5, 2.8, 4.6, 1.5], label='Iris-versicolor'),\n",
       " LabeledPoint(point=[5.7, 2.8, 4.5, 1.3], label='Iris-versicolor'),\n",
       " LabeledPoint(point=[6.3, 3.3, 4.7, 1.6], label='Iris-versicolor'),\n",
       " LabeledPoint(point=[4.9, 2.4, 3.3, 1.0], label='Iris-versicolor'),\n",
       " LabeledPoint(point=[6.6, 2.9, 4.6, 1.3], label='Iris-versicolor'),\n",
       " LabeledPoint(point=[5.2, 2.7, 3.9, 1.4], label='Iris-versicolor'),\n",
       " LabeledPoint(point=[5.0, 2.0, 3.5, 1.0], label='Iris-versicolor'),\n",
       " LabeledPoint(point=[5.9, 3.0, 4.2, 1.5], label='Iris-versicolor'),\n",
       " LabeledPoint(point=[6.0, 2.2, 4.0, 1.0], label='Iris-versicolor'),\n",
       " LabeledPoint(point=[6.1, 2.9, 4.7, 1.4], label='Iris-versicolor'),\n",
       " LabeledPoint(point=[5.6, 2.9, 3.6, 1.3], label='Iris-versicolor'),\n",
       " LabeledPoint(point=[6.7, 3.1, 4.4, 1.4], label='Iris-versicolor'),\n",
       " LabeledPoint(point=[5.6, 3.0, 4.5, 1.5], label='Iris-versicolor'),\n",
       " LabeledPoint(point=[5.8, 2.7, 4.1, 1.0], label='Iris-versicolor'),\n",
       " LabeledPoint(point=[6.2, 2.2, 4.5, 1.5], label='Iris-versicolor'),\n",
       " LabeledPoint(point=[5.6, 2.5, 3.9, 1.1], label='Iris-versicolor'),\n",
       " LabeledPoint(point=[5.9, 3.2, 4.8, 1.8], label='Iris-versicolor'),\n",
       " LabeledPoint(point=[6.1, 2.8, 4.0, 1.3], label='Iris-versicolor'),\n",
       " LabeledPoint(point=[6.3, 2.5, 4.9, 1.5], label='Iris-versicolor'),\n",
       " LabeledPoint(point=[6.1, 2.8, 4.7, 1.2], label='Iris-versicolor'),\n",
       " LabeledPoint(point=[6.4, 2.9, 4.3, 1.3], label='Iris-versicolor'),\n",
       " LabeledPoint(point=[6.6, 3.0, 4.4, 1.4], label='Iris-versicolor'),\n",
       " LabeledPoint(point=[6.8, 2.8, 4.8, 1.4], label='Iris-versicolor'),\n",
       " LabeledPoint(point=[6.7, 3.0, 5.0, 1.7], label='Iris-versicolor'),\n",
       " LabeledPoint(point=[6.0, 2.9, 4.5, 1.5], label='Iris-versicolor'),\n",
       " LabeledPoint(point=[5.7, 2.6, 3.5, 1.0], label='Iris-versicolor'),\n",
       " LabeledPoint(point=[5.5, 2.4, 3.8, 1.1], label='Iris-versicolor'),\n",
       " LabeledPoint(point=[5.5, 2.4, 3.7, 1.0], label='Iris-versicolor'),\n",
       " LabeledPoint(point=[5.8, 2.7, 3.9, 1.2], label='Iris-versicolor'),\n",
       " LabeledPoint(point=[6.0, 2.7, 5.1, 1.6], label='Iris-versicolor'),\n",
       " LabeledPoint(point=[5.4, 3.0, 4.5, 1.5], label='Iris-versicolor'),\n",
       " LabeledPoint(point=[6.0, 3.4, 4.5, 1.6], label='Iris-versicolor'),\n",
       " LabeledPoint(point=[6.7, 3.1, 4.7, 1.5], label='Iris-versicolor'),\n",
       " LabeledPoint(point=[6.3, 2.3, 4.4, 1.3], label='Iris-versicolor'),\n",
       " LabeledPoint(point=[5.6, 3.0, 4.1, 1.3], label='Iris-versicolor'),\n",
       " LabeledPoint(point=[5.5, 2.5, 4.0, 1.3], label='Iris-versicolor'),\n",
       " LabeledPoint(point=[5.5, 2.6, 4.4, 1.2], label='Iris-versicolor'),\n",
       " LabeledPoint(point=[6.1, 3.0, 4.6, 1.4], label='Iris-versicolor'),\n",
       " LabeledPoint(point=[5.8, 2.6, 4.0, 1.2], label='Iris-versicolor'),\n",
       " LabeledPoint(point=[5.0, 2.3, 3.3, 1.0], label='Iris-versicolor'),\n",
       " LabeledPoint(point=[5.6, 2.7, 4.2, 1.3], label='Iris-versicolor'),\n",
       " LabeledPoint(point=[5.7, 3.0, 4.2, 1.2], label='Iris-versicolor'),\n",
       " LabeledPoint(point=[5.7, 2.9, 4.2, 1.3], label='Iris-versicolor'),\n",
       " LabeledPoint(point=[6.2, 2.9, 4.3, 1.3], label='Iris-versicolor'),\n",
       " LabeledPoint(point=[5.1, 2.5, 3.0, 1.1], label='Iris-versicolor'),\n",
       " LabeledPoint(point=[5.7, 2.8, 4.1, 1.3], label='Iris-versicolor'),\n",
       " LabeledPoint(point=[6.3, 3.3, 6.0, 2.5], label='Iris-virginica'),\n",
       " LabeledPoint(point=[5.8, 2.7, 5.1, 1.9], label='Iris-virginica'),\n",
       " LabeledPoint(point=[7.1, 3.0, 5.9, 2.1], label='Iris-virginica'),\n",
       " LabeledPoint(point=[6.3, 2.9, 5.6, 1.8], label='Iris-virginica'),\n",
       " LabeledPoint(point=[6.5, 3.0, 5.8, 2.2], label='Iris-virginica'),\n",
       " LabeledPoint(point=[7.6, 3.0, 6.6, 2.1], label='Iris-virginica'),\n",
       " LabeledPoint(point=[4.9, 2.5, 4.5, 1.7], label='Iris-virginica'),\n",
       " LabeledPoint(point=[7.3, 2.9, 6.3, 1.8], label='Iris-virginica'),\n",
       " LabeledPoint(point=[6.7, 2.5, 5.8, 1.8], label='Iris-virginica'),\n",
       " LabeledPoint(point=[7.2, 3.6, 6.1, 2.5], label='Iris-virginica'),\n",
       " LabeledPoint(point=[6.5, 3.2, 5.1, 2.0], label='Iris-virginica'),\n",
       " LabeledPoint(point=[6.4, 2.7, 5.3, 1.9], label='Iris-virginica'),\n",
       " LabeledPoint(point=[6.8, 3.0, 5.5, 2.1], label='Iris-virginica'),\n",
       " LabeledPoint(point=[5.7, 2.5, 5.0, 2.0], label='Iris-virginica'),\n",
       " LabeledPoint(point=[5.8, 2.8, 5.1, 2.4], label='Iris-virginica'),\n",
       " LabeledPoint(point=[6.4, 3.2, 5.3, 2.3], label='Iris-virginica'),\n",
       " LabeledPoint(point=[6.5, 3.0, 5.5, 1.8], label='Iris-virginica'),\n",
       " LabeledPoint(point=[7.7, 3.8, 6.7, 2.2], label='Iris-virginica'),\n",
       " LabeledPoint(point=[7.7, 2.6, 6.9, 2.3], label='Iris-virginica'),\n",
       " LabeledPoint(point=[6.0, 2.2, 5.0, 1.5], label='Iris-virginica'),\n",
       " LabeledPoint(point=[6.9, 3.2, 5.7, 2.3], label='Iris-virginica'),\n",
       " LabeledPoint(point=[5.6, 2.8, 4.9, 2.0], label='Iris-virginica'),\n",
       " LabeledPoint(point=[7.7, 2.8, 6.7, 2.0], label='Iris-virginica'),\n",
       " LabeledPoint(point=[6.3, 2.7, 4.9, 1.8], label='Iris-virginica'),\n",
       " LabeledPoint(point=[6.7, 3.3, 5.7, 2.1], label='Iris-virginica'),\n",
       " LabeledPoint(point=[7.2, 3.2, 6.0, 1.8], label='Iris-virginica'),\n",
       " LabeledPoint(point=[6.2, 2.8, 4.8, 1.8], label='Iris-virginica'),\n",
       " LabeledPoint(point=[6.1, 3.0, 4.9, 1.8], label='Iris-virginica'),\n",
       " LabeledPoint(point=[6.4, 2.8, 5.6, 2.1], label='Iris-virginica'),\n",
       " LabeledPoint(point=[7.2, 3.0, 5.8, 1.6], label='Iris-virginica'),\n",
       " LabeledPoint(point=[7.4, 2.8, 6.1, 1.9], label='Iris-virginica'),\n",
       " LabeledPoint(point=[7.9, 3.8, 6.4, 2.0], label='Iris-virginica'),\n",
       " LabeledPoint(point=[6.4, 2.8, 5.6, 2.2], label='Iris-virginica'),\n",
       " LabeledPoint(point=[6.3, 2.8, 5.1, 1.5], label='Iris-virginica'),\n",
       " LabeledPoint(point=[6.1, 2.6, 5.6, 1.4], label='Iris-virginica'),\n",
       " LabeledPoint(point=[7.7, 3.0, 6.1, 2.3], label='Iris-virginica'),\n",
       " LabeledPoint(point=[6.3, 3.4, 5.6, 2.4], label='Iris-virginica'),\n",
       " LabeledPoint(point=[6.4, 3.1, 5.5, 1.8], label='Iris-virginica'),\n",
       " LabeledPoint(point=[6.0, 3.0, 4.8, 1.8], label='Iris-virginica'),\n",
       " LabeledPoint(point=[6.9, 3.1, 5.4, 2.1], label='Iris-virginica'),\n",
       " LabeledPoint(point=[6.7, 3.1, 5.6, 2.4], label='Iris-virginica'),\n",
       " LabeledPoint(point=[6.9, 3.1, 5.1, 2.3], label='Iris-virginica'),\n",
       " LabeledPoint(point=[5.8, 2.7, 5.1, 1.9], label='Iris-virginica'),\n",
       " LabeledPoint(point=[6.8, 3.2, 5.9, 2.3], label='Iris-virginica'),\n",
       " LabeledPoint(point=[6.7, 3.3, 5.7, 2.5], label='Iris-virginica'),\n",
       " LabeledPoint(point=[6.7, 3.0, 5.2, 2.3], label='Iris-virginica'),\n",
       " LabeledPoint(point=[6.3, 2.5, 5.0, 1.9], label='Iris-virginica'),\n",
       " LabeledPoint(point=[6.5, 3.0, 5.2, 2.0], label='Iris-virginica'),\n",
       " LabeledPoint(point=[6.2, 3.4, 5.4, 2.3], label='Iris-virginica'),\n",
       " LabeledPoint(point=[5.9, 3.0, 5.1, 1.8], label='Iris-virginica')]"
      ]
     },
     "execution_count": 22,
     "metadata": {},
     "output_type": "execute_result"
    }
   ],
   "source": [
    "iris_data = [parse_iris_row(row) for row in df1.values]\n",
    "iris_data"
   ]
  },
  {
   "cell_type": "markdown",
   "metadata": {},
   "source": [
    "spliting data"
   ]
  },
  {
   "cell_type": "code",
   "execution_count": 23,
   "metadata": {},
   "outputs": [],
   "source": [
    "def split_data(data: List[X], prob: float) -> Tuple[List[X], List[X]]:\n",
    "    \"\"\"Split the given data into fractions of prob given [[prob, 1-prob]]\"\"\"  # prob is fractio of training data set\n",
    "    data = data[:]                   # Making a copy\n",
    "    random.shuffle(data)\n",
    "    cut = int(len(data) * prob)\n",
    "    return data[:cut], data[cut:]"
   ]
  },
  {
   "cell_type": "code",
   "execution_count": 24,
   "metadata": {},
   "outputs": [],
   "source": [
    "data = [n for n in range(1000)]\n",
    "\n",
    "# some time we will have paired input and output variables. so we need to make sure to put corresponding values together either training or testing dataset\n",
    "X = TypeVar(\"X\") \n",
    "Y = TypeVar(\"Y\")\n",
    "\n",
    "\n",
    "def train_test_split(\n",
    "    xs: List[X], ys: List[Y], test_pct: float\n",
    ") -> Tuple[List[X], List[X], List[Y], List[Y]]:\n",
    "    \"\"\"Split them by using indeices\"\"\"\n",
    "\n",
    "    idxs = [i for i in range(len(xs))]\n",
    "    train_idxs, test_idxs = split_data(idxs, 1 - test_pct)\n",
    "\n",
    "    return (\n",
    "        [xs[i] for i in train_idxs],\n",
    "        [xs[i] for i in test_idxs],\n",
    "        [ys[i] for i in train_idxs],\n",
    "        [ys[i] for i in test_idxs],\n",
    "    )  # x train, x test, y train, y test"
   ]
  },
  {
   "cell_type": "code",
   "execution_count": 25,
   "metadata": {},
   "outputs": [],
   "source": [
    "# iris_data = [parse_iris_row([\"5.1\", \"3.5\", \"1.4\", \"0.2\", \"iris-setos\"])]        #ignore if reading from above data set\n",
    "random.seed(12)\n",
    "\n",
    "iris_train, iris_test = split_data(iris_data, 0.70)"
   ]
  },
  {
   "cell_type": "markdown",
   "metadata": {},
   "source": [
    "Testing the KNN model"
   ]
  },
  {
   "cell_type": "code",
   "execution_count": 26,
   "metadata": {},
   "outputs": [
    {
     "name": "stdout",
     "output_type": "stream",
     "text": [
      "Accuracy on testing data 98.0 %\n"
     ]
    }
   ],
   "source": [
    "# Track how many times our model did correct predictions\n",
    "from typing import Tuple\n",
    "\n",
    "\n",
    "confusion_matrix: Dict[Tuple[str, str], int] = defaultdict(int)\n",
    "num_correct = 0\n",
    "\n",
    "#using our model to predict over the processed training and testing data set\n",
    "\n",
    "for iris in iris_data:\n",
    "    # Choosing k = 5\n",
    "    predicted = knn_classify(9, iris_train, iris.point)\n",
    "    actual = iris.label\n",
    "\n",
    "    if predicted == actual:\n",
    "        num_correct += 1\n",
    "\n",
    "    confusion_matrix[(predicted, actual)] += 1\n",
    "\n",
    "pct_correct = ((num_correct/len(iris_data)) * 100)\n",
    "\n",
    "print(f'Accuracy on testing data {pct_correct} %')\n"
   ]
  }
 ],
 "metadata": {
  "kernelspec": {
   "display_name": ".venv",
   "language": "python",
   "name": "python3"
  },
  "language_info": {
   "codemirror_mode": {
    "name": "ipython",
    "version": 3
   },
   "file_extension": ".py",
   "mimetype": "text/x-python",
   "name": "python",
   "nbconvert_exporter": "python",
   "pygments_lexer": "ipython3",
   "version": "3.11.7"
  }
 },
 "nbformat": 4,
 "nbformat_minor": 2
}
